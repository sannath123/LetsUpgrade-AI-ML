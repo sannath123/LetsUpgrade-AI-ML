{
 "cells": [
  {
   "cell_type": "code",
   "execution_count": 1,
   "metadata": {},
   "outputs": [
    {
     "name": "stdout",
     "output_type": "stream",
     "text": [
      "[1, 3, 5, 7, 9, 11, 13, 15, 17, 19, 21, 23, 25, 27, 29, 31, 33, 35, 37, 39]\n"
     ]
    }
   ],
   "source": [
    "#Question 1:-\n",
    "\n",
    "a=1\n",
    "l=[]\n",
    "for i in range(a,100,1):\n",
    "    if(len(l)<20 and i%2!=0):\n",
    "        l.append(i)\n",
    "        a=a+1\n",
    "print(l)"
   ]
  },
  {
   "cell_type": "code",
   "execution_count": 2,
   "metadata": {},
   "outputs": [
    {
     "name": "stdout",
     "output_type": "stream",
     "text": [
      "mY aIM IS TO cOMPLETE THE lETSuPGRADE aL/mL cOURSE sUCESSFULLY\n",
      "my aim is to complete the letsupgrade al/ml course sucessfully\n",
      "True\n",
      "['My', 'Aim', 'is', 'to', 'Complete', 'the', 'LetsUpgrade', 'Al/Ml', 'Course', 'Sucessfully']\n",
      "('My Aim is to Complete ', 'the', ' LetsUpgrade Al/Ml Course Sucessfully')\n",
      "22\n",
      "True\n",
      "False\n",
      "True\n",
      "True\n",
      "False\n",
      "['My Aim is to Complete the LetsUpgrade Al/Ml Course Sucessfully']\n",
      "My Aim is to Complete THE LetsUpgrade Al/Ml Course Sucessfully\n",
      "{97: '123', 98: '456', 99: '789'}\n",
      "False\n",
      "MY AIM IS TO COMPLETE THE LETSUPGRADE AL/ML COURSE SUCESSFULLY\n",
      "True\n",
      "True\n"
     ]
    }
   ],
   "source": [
    "#Question 2:-\n",
    "\n",
    "str = \"My Aim is to Complete the LetsUpgrade Al/Ml Course Sucessfully\"\n",
    "r=\"   \"\n",
    "p=\"1243qwe\"\n",
    "q=\"12345\"\n",
    "m=\"_sdf\"\n",
    "dict= {\"a\": \"123\", \"b\": \"456\", \"c\": \"789\"}\n",
    "print(str.swapcase())        #used to convert lower case to upper case in string.\n",
    "print(str.lower())           #used to convert upper case to lower case in string.\n",
    "print(str.startswith(\"My\"))  #return true if string starts with \"My\".\n",
    "print(str.rsplit(\" \"))       #convert string into list based on the spaces between them.\n",
    "print(str.rpartition(\"the\")) #this function used to return tuple with 3 elements based on the arugment we mentioned.\n",
    "print(str.rfind(\"the\"))      #used to find element in string and return the last position where it found.\n",
    "print(p.isalnum())           # return true if the string only consists of alphabets and numbers only.\n",
    "print(str.isalpha())         #return true if the string only consists of alphabets only. \n",
    "print(q.isdigit())           #return true if the string only consists of  numbers only.\n",
    "print(str.isprintable())     #return true if the string is able to print.\n",
    "print(str.istitle())         #return true if the string is Title.\n",
    "print(str.splitlines())      \n",
    "print(str.replace(\"the\",\"THE\")) #used to replace the elements in string.\n",
    "print(str.maketrans(dict))      #used to translate the any data type to string.\n",
    "print(str.isupper())            #return true if the string is upper case only\n",
    "print(str.upper())              #convert string in lower to upper case.\n",
    "print(r.isspace())              #return true if the string is consists of only spaces.\n",
    "print(m.isidentifier())         #return true if the string starts with \"_\"\n"
   ]
  },
  {
   "cell_type": "code",
   "execution_count": 12,
   "metadata": {},
   "outputs": [
    {
     "name": "stdout",
     "output_type": "stream",
     "text": [
      "malayalam\n",
      "mayam\n",
      "it is palindrome\n",
      "they are not a  anagrams\n"
     ]
    }
   ],
   "source": [
    "#Question 3:-\n",
    "s=input()\n",
    "str1=input()\n",
    "reverse=s[::-1]\n",
    "if(reverse==s):\n",
    "    print(\"it is palindrome\")\n",
    "else:\n",
    "    print(\"it is not palindrome\")\n",
    "if(sorted(s)==sorted(str1)):\n",
    "    print(\"they are anagarms\")\n",
    "else:\n",
    "    print(\"they are not a  anagrams\")"
   ]
  },
  {
   "cell_type": "code",
   "execution_count": 4,
   "metadata": {},
   "outputs": [
    {
     "name": "stdout",
     "output_type": "stream",
     "text": [
      "sunny3btech6thsem\n"
     ]
    }
   ],
   "source": [
    "#Question 4:-\n",
    "\n",
    "str=\"sunny@3-B.Tech/6th sem\"\n",
    "str1=\"\"\n",
    "for i in str:\n",
    "    if(i.isalnum()):\n",
    "        str1=str1+i \n",
    "print(str1.lower())"
   ]
  }
 ],
 "metadata": {
  "kernelspec": {
   "display_name": "Python 3",
   "language": "python",
   "name": "python3"
  },
  "language_info": {
   "codemirror_mode": {
    "name": "ipython",
    "version": 3
   },
   "file_extension": ".py",
   "mimetype": "text/x-python",
   "name": "python",
   "nbconvert_exporter": "python",
   "pygments_lexer": "ipython3",
   "version": "3.7.7"
  }
 },
 "nbformat": 4,
 "nbformat_minor": 4
}
