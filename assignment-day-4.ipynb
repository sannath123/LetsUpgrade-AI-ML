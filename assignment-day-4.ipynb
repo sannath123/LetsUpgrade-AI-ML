{
 "cells": [
  {
   "cell_type": "code",
   "execution_count": 2,
   "metadata": {},
   "outputs": [
    {
     "name": "stdout",
     "output_type": "stream",
     "text": [
      "4\n",
      "7\n",
      "5\n",
      "8\n",
      "(9+15j)\n",
      "(-1-1j)\n",
      "(-36+67j)\n",
      "(0.8539325842696629+0.033707865168539325j)\n",
      "(4+7j) (5+8j)\n"
     ]
    }
   ],
   "source": [
    "#Question 1:-\n",
    "\n",
    "a=int(input())\n",
    "b=int(input())\n",
    "c=int(input())\n",
    "d=int(input())\n",
    "x=complex(a,b)\n",
    "y=complex(c,d)\n",
    "#addition operator is +\n",
    "l=x+y\n",
    "print(l)\n",
    "#subraction operator is -\n",
    "m=x-y\n",
    "print(m)\n",
    "#multiplication operator is *\n",
    "n=x*y\n",
    "print(n)\n",
    "#division operator is /\n",
    "p=x/y\n",
    "print(p)\n",
    "#floor division is not aplicable for complex numbers because it return rounded value i.e,no decimal after point \n",
    "\n",
    "#modulo operator is abs( ) this returns sqare root of x**2 and y**2\n",
    "q=abs(x)\n",
    "r=abs(y)\n",
    "print(x,y)\n"
   ]
  },
  {
   "cell_type": "markdown",
   "metadata": {},
   "source": [
    "#Question 2\n",
    "\n",
    "Range function explanation:-\n",
    "1)The range function is the built-in function and a class in python.It is used to print the sequence of numbers,names or patterns as per your requriment.\n",
    "\n",
    "2)The range function must consists of three parameters named as \"Start\",\"Stop\",\"Step\".\n",
    "    syntax:-range(start,stop,step)\n",
    "    Start:-this parameter is is defualt taken as \"0\" or otherwise we just mention it as per your requriment i.e, either+veor      -ve number\n",
    "    Stop:- this is the used to mention the end of your sequence\n",
    "    Step:- this pays a main role in range function i.e, used to increment the value of start value in periodic way to obtain \n",
    "    the corresponding output.the step size must be positive or negative value\n",
    "3)Limitation:-In this function the parameters must not be in float data type\n",
    "4)In python 2 it is labeled as xrange() and in python 3 we mention range() and it is highly used in loops concept.\n",
    "5)PROGRAM:-\n",
    "  //pattern printing using range function and for loop:-\n",
    "     \n",
    "     for i range(0,5):             \n",
    "         for j in range(0,i+1):\n",
    "             print('*',end=' ')\n",
    "         print()\n",
    "   \n",
    "   output:-\n",
    "           *\n",
    "           * *\n",
    "           * * *\n",
    "           * * * *\n",
    "           * * * * *\n",
    "   \n",
    "   \n"
   ]
  },
  {
   "cell_type": "code",
   "execution_count": 4,
   "metadata": {},
   "outputs": [
    {
     "name": "stdout",
     "output_type": "stream",
     "text": [
      "123\n",
      "23\n",
      "2829\n"
     ]
    }
   ],
   "source": [
    "#Question 3:-\n",
    "\n",
    "\n",
    "a=int(input())\n",
    "b=int(input())\n",
    "if((a-b)>25):\n",
    "    print(a*b)\n",
    "else:\n",
    "    print(a/b)"
   ]
  },
  {
   "cell_type": "code",
   "execution_count": 5,
   "metadata": {},
   "outputs": [
    {
     "name": "stdout",
     "output_type": "stream",
     "text": [
      "12 14 6 14 16 18 4 6 8 16\n",
      "142\n",
      "194\n",
      "34\n",
      "194\n",
      "254\n",
      "322\n",
      "14\n",
      "34\n",
      "62\n",
      "254\n"
     ]
    }
   ],
   "source": [
    "#Question 4:-\n",
    "\n",
    "a=input()\n",
    "L=list(map(int, a.split()))\n",
    "for i in L: \n",
    "    if(i/2 and len(L)==10):\n",
    "        print((i**2)-2)"
   ]
  },
  {
   "cell_type": "code",
   "execution_count": 6,
   "metadata": {},
   "outputs": [
    {
     "name": "stdout",
     "output_type": "stream",
     "text": [
      "[12, 14, 8, 66, 54, 124]\n"
     ]
    }
   ],
   "source": [
    "#Question 5:-\n",
    "\n",
    "L=[12,14,6,8,66,75,54,89,53,124]\n",
    "M=[]\n",
    "for i in L:\n",
    "    if(i>7 and i%2==0 and len(L)==10):\n",
    "        M.append(i)\n",
    "print(M)"
   ]
  }
 ],
 "metadata": {
  "kernelspec": {
   "display_name": "Python 3",
   "language": "python",
   "name": "python3"
  },
  "language_info": {
   "codemirror_mode": {
    "name": "ipython",
    "version": 3
   },
   "file_extension": ".py",
   "mimetype": "text/x-python",
   "name": "python",
   "nbconvert_exporter": "python",
   "pygments_lexer": "ipython3",
   "version": "3.7.7"
  }
 },
 "nbformat": 4,
 "nbformat_minor": 4
}
