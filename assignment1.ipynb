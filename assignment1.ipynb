{
 "cells": [
  {
   "cell_type": "code",
   "execution_count": 1,
   "metadata": {},
   "outputs": [
    {
     "name": "stdout",
     "output_type": "stream",
     "text": [
      "(1+1j)\n"
     ]
    }
   ],
   "source": [
    "def Complex( a,b): \n",
    "    return (a-b) \n",
    "a = complex(2, 3) \n",
    "b = complex(1, 2) \n",
    "print(Complex(a,b)) \n"
   ]
  },
  {
   "cell_type": "code",
   "execution_count": 2,
   "metadata": {},
   "outputs": [
    {
     "name": "stdout",
     "output_type": "stream",
     "text": [
      "8\n",
      "4\n",
      "1.681792830507429\n"
     ]
    }
   ],
   "source": [
    "def nthRoot(x,n):\n",
    "    root = x**(1/n)\n",
    "    return root\n",
    "x=int(input())\n",
    "n=int(input())\n",
    "print(nthRoot(x,n))"
   ]
  },
  {
   "cell_type": "code",
   "execution_count": 6,
   "metadata": {},
   "outputs": [
    {
     "name": "stdout",
     "output_type": "stream",
     "text": [
      "1234\n",
      "123\n",
      "123 1234\n"
     ]
    }
   ],
   "source": [
    "x = int(input())\n",
    "y = int(input())\n",
    "temporary = x \n",
    "x = y \n",
    "y = temporary\n",
    "  \n",
    "print(x , y) "
   ]
  },
  {
   "cell_type": "code",
   "execution_count": 4,
   "metadata": {},
   "outputs": [
    {
     "name": "stdout",
     "output_type": "stream",
     "text": [
      "12\n",
      "123\n",
      "123 12\n"
     ]
    }
   ],
   "source": [
    "x = int(input())\n",
    "y = int(input())\n",
    "x = x * y \n",
    "y = x // y;  \n",
    "x = x // y;  \n",
    "  \n",
    "print( x,y)"
   ]
  },
  {
   "cell_type": "code",
   "execution_count": 7,
   "metadata": {},
   "outputs": [
    {
     "name": "stdout",
     "output_type": "stream",
     "text": [
      "311.27777777777777\n",
      "37.77777777777778\n"
     ]
    }
   ],
   "source": [
    "def Fahrenheit_to_Kelvin(F): \n",
    "    return 273.5 + ((F - 32.0) * (5.0/9.0)) \n",
    "F=100\n",
    "print((Fahrenheit_to_Kelvin( F ))) \n",
    "def Fahrenheit_to_Celsius(F):\n",
    "    return (F-32)*(5/9)\n",
    "print((Fahrenheit_to_Celsius( F )))\n"
   ]
  },
  {
   "cell_type": "code",
   "execution_count": 8,
   "metadata": {},
   "outputs": [
    {
     "name": "stdout",
     "output_type": "stream",
     "text": [
      "<class 'int'>\n",
      "<class 'float'>\n",
      "<class 'str'>\n",
      "<class 'complex'>\n",
      "<class 'bool'>\n",
      "<class 'float'>\n",
      "<class 'list'>\n",
      "<class 'tuple'>\n",
      "<class 'set'>\n",
      "<class 'dict'>\n"
     ]
    }
   ],
   "source": [
    "a=100\n",
    "b=2.1\n",
    "c=\"aim\"\n",
    "d=1+2j\n",
    "e=True\n",
    "f=1234123456.0988\n",
    "g=[1,\"sanna\",\"chant\",123.4]\n",
    "h=(1,\"sanna\",\"chant\",123.4,0,\"mango\")\n",
    "i={\"san\",123,\"b.tech\",12.9}\n",
    "j={1:\"lady\", 2:\"Bill\", 3:\"Ram\", 4:\"Fan\"}\n",
    "print(type(a))\n",
    "print(type(b))\n",
    "print(type(c))\n",
    "print(type(d))\n",
    "print(type(e))\n",
    "print(type(f))\n",
    "print(type(g))\n",
    "print(type(h))\n",
    "print(type(i))\n",
    "print(type(j))\n"
   ]
  },
  {
   "cell_type": "markdown",
   "metadata": {},
   "source": [
    "Process To Create Github Profile and Way To Upload Assignment into Github:-\n",
    "Step 1:-Go to browser and search for github and later we get github website and then click on it.\n",
    "Step 2:-After opening the github and then click on the create account.After clicking we should fill the details and then cilck on verfy account.\n",
    "Step 3:- Then a mail is sent to you then go through it to verify your account.then go to your jupiter notebook and save the program and click on file to download it as .ipynb  form and then place the file in new floder named as day-3 assignment.\n",
    "Step 4:later come github page and click on the create new repository then name the repository as LetsUpgrade AI-Ml(this name mandatory).and then scroll down and select checkbox with public and then click on create repository.\n",
    "Step 5:-Then the repository is created and then we click on the upload existing file then we just drag the file from the floder that where we save the assignment files.\n",
    "Step 6:-After adding files cilck on the commit changes and then try to open the file.when we open the file we just found the corresponding URl in search bar and copy the URL.and paste it another tab once check  if it is working or not.\n",
    "Step 7:-After that we just open the assignment submission link and paste the URL in the google form.\n",
    "Step 8 :-This the process to create github profile and submit the assignments."
   ]
  }
 ],
 "metadata": {
  "kernelspec": {
   "display_name": "Python 3",
   "language": "python",
   "name": "python3"
  },
  "language_info": {
   "codemirror_mode": {
    "name": "ipython",
    "version": 3
   },
   "file_extension": ".py",
   "mimetype": "text/x-python",
   "name": "python",
   "nbconvert_exporter": "python",
   "pygments_lexer": "ipython3",
   "version": "3.7.7"
  }
 },
 "nbformat": 4,
 "nbformat_minor": 4
}
